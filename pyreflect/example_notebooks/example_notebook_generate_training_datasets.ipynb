{
 "cells": [
  {
   "metadata": {},
   "cell_type": "markdown",
   "source": "## Generate Training Data for N number of Layers Material",
   "id": "f0e9acdd61bf00"
  },
  {
   "metadata": {},
   "cell_type": "markdown",
   "source": "#### Option 1️⃣ use self defined layer boundaries",
   "id": "5a52ca0b58bc260e"
  },
  {
   "metadata": {},
   "cell_type": "code",
   "outputs": [],
   "execution_count": null,
   "source": [
    "from pyreflect.input import ReflectivityDataGenerator\n",
    "import numpy as np"
   ],
   "id": "2697fba85b796e78"
  },
  {
   "cell_type": "code",
   "execution_count": null,
   "id": "initial_id",
   "metadata": {
    "collapsed": true
   },
   "outputs": [],
   "source": [
    "#The more closely each layer's boundaries match real-world materials, the better the model's prediction accuracy.\n",
    "\n",
    "layer_bound = [\n",
    "    #substrate\n",
    "    dict(i=0, par='roughness', bounds=[1.177, 1.5215]),\n",
    "    # silicon oxide layer \n",
    "    dict(i=1, par='sld', bounds=[3.47, 3.47]),\n",
    "    dict(i=1, par='thickness', bounds=[9.7216, 14.624]),\n",
    "    dict(i=1, par='roughness', bounds=[1.108, 2.998]),\n",
    "    # the followings are material layer boundaries\n",
    "    dict(i=2, par='sld', bounds=[3.7235, 4.197]),\n",
    "    dict(i=2, par='thickness', bounds=[8.717, 98.867]),\n",
    "    dict(i=2, par='roughness', bounds=[2.2571, 38.969]),\n",
    "\n",
    "    dict(i=3, par='sld', bounds=[1.6417, 3.1033]),\n",
    "    dict(i=3, par='thickness', bounds=[117.4, 239.91]),\n",
    "    dict(i=3, par='roughness', bounds=[19.32, 95.202]),\n",
    "\n",
    "    dict(i=4, par='sld', bounds=[3.0246, 4.6755]),\n",
    "    dict(i=4, par='thickness', bounds=[64.482, 94.768]),\n",
    "    dict(i=4, par='roughness', bounds=[15.713, 28.007]),\n",
    "\n",
    "    dict(i=5, par='sld', bounds=[1.501, 4.9837]),\n",
    "    dict(i=5, par='thickness', bounds=[51.655, 83.334]),\n",
    "    dict(i=5, par='roughness', bounds=[9.7741, 25.373]),\n",
    "\n",
    "    dict(i=6, par='sld', bounds=[0.85516, 4.4906]),\n",
    "    dict(i=6, par='thickness', bounds=[58.479, 86.738]),\n",
    "    dict(i=6, par='roughness', bounds=[43.155, 110.11]),\n",
    "]"
   ]
  },
  {
   "metadata": {},
   "cell_type": "code",
   "outputs": [],
   "execution_count": null,
   "source": [
    "layer_desc = [\n",
    "    dict(sld=2.07, isld=0, thickness=0, roughness=1.8272, name='substrate'),\n",
    "    dict(sld=3.47, isld=0, thickness=10.085, roughness=1.108, name='siox'),\n",
    "    dict(sld=3.734, isld=0, thickness=8.717, roughness=2.2571, name='bottom'),\n",
    "    dict(sld=3.1033, isld=0, thickness=239.91, roughness=37.707, name='bottom'),\n",
    "    dict(sld=3.0246, isld=0, thickness=91.232, roughness=20.147, name='bulk'),\n",
    "    dict(sld=3.0246, isld=0, thickness=51.655, roughness=20.147, name='bulk'),\n",
    "    dict(sld=0.85516, isld=0, thickness=62.189, roughness=43.155, name='bottom'),\n",
    "    dict(sld=0, isld=0, thickness=0, roughness=0, name='air')\n",
    "]"
   ],
   "id": "d3623287c4cdbd23"
  },
  {
   "metadata": {},
   "cell_type": "code",
   "outputs": [],
   "execution_count": null,
   "source": [
    "num_curves = 5000\n",
    "\n",
    "m = ReflectivityDataGenerator(5,layer_desc,layer_bound)\n",
    "\n",
    "#Generate 5000 curves using the layer description and layer boundaries \n",
    "processed_nr, processed_sld_profile = m.generate(num_curves=num_curves)\n",
    "\n",
    "np.save(\"PATH_TO_SAVE_NR\", processed_sld_profile)\n",
    "np.save(\"PATH_TO_SAVE_NR\", processed_nr)"
   ],
   "id": "5b3852e2e2b038bc"
  },
  {
   "metadata": {},
   "cell_type": "markdown",
   "source": [
    "#### Option 2️⃣ Use a pre-defined reflectivity model\n",
    "- currently, only Layer 5 is supported, which provides promising results. The others use randomly generated layer boundaries.\n"
   ],
   "id": "a35ac8d2105bd69f"
  },
  {
   "metadata": {},
   "cell_type": "code",
   "outputs": [],
   "execution_count": null,
   "source": [
    "from pyreflect.models import NRSLDCurvesGeneratorParams\n",
    "from pyreflect.flows import nr_predict_sld"
   ],
   "id": "b67f398ff78683aa"
  },
  {
   "metadata": {},
   "cell_type": "code",
   "outputs": [],
   "execution_count": null,
   "source": [
    "generator_params = NRSLDCurvesGeneratorParams(\n",
    "    root='.',\n",
    "    mod_nr_file=\"PATH_to_be_saved_nr_file\",\n",
    "    mod_sld_file=\"PATH_to_be_saved_sld_file\",\n",
    "    num_curves=100000,\n",
    "    num_film_layers=5  #Test with different film layers material\n",
    ")\n",
    "\n",
    "#save nr, sld file\n",
    "nr_arr, sld_arr = nr_predict_sld.generate_nr_sld_curves(generator_params)\n",
    "nr_arr.shape, sld_arr.shape"
   ],
   "id": "df674c5dfc47f664"
  }
 ],
 "metadata": {
  "kernelspec": {
   "display_name": "Python 3",
   "language": "python",
   "name": "python3"
  },
  "language_info": {
   "codemirror_mode": {
    "name": "ipython",
    "version": 2
   },
   "file_extension": ".py",
   "mimetype": "text/x-python",
   "name": "python",
   "nbconvert_exporter": "python",
   "pygments_lexer": "ipython2",
   "version": "2.7.6"
  }
 },
 "nbformat": 4,
 "nbformat_minor": 5
}
