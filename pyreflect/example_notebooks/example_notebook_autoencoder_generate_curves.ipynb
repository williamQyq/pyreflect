{
 "cells": [
  {
   "cell_type": "code",
   "execution_count": null,
   "id": "003b8194-6bc4-4d39-b5b1-349797942dc6",
   "metadata": {},
   "outputs": [],
   "source": [
    "!pip cache purge"
   ]
  },
  {
   "cell_type": "code",
   "execution_count": null,
   "id": "cc51f9f5-30f1-4e18-8231-1628696aec33",
   "metadata": {},
   "outputs": [],
   "source": [
    "!pip uninstall -y pyreflect"
   ]
  },
  {
   "cell_type": "code",
   "execution_count": null,
   "id": "de7a617c-f42d-4224-a56d-360446905420",
   "metadata": {},
   "outputs": [],
   "source": [
    "!pip install -i https://test.pypi.org/simple/ pyreflect==1.2.3"
   ]
  },
  {
   "cell_type": "code",
   "execution_count": null,
   "id": "66f45e9a-668d-4ff9-9dfe-45fc0d3cd320",
   "metadata": {},
   "outputs": [],
   "source": [
    "!pip show pyreflect"
   ]
  },
  {
   "cell_type": "markdown",
   "id": "4cb62ee7-f495-4d54-8f2d-ce025a766acb",
   "metadata": {},
   "source": [
    "## Generate Refl1d NR SLD profile Curves"
   ]
  },
  {
   "cell_type": "code",
   "execution_count": 1,
   "id": "63d4fafe-b216-4187-890d-ca6bc0b33c1e",
   "metadata": {},
   "outputs": [
    {
     "name": "stderr",
     "output_type": "stream",
     "text": [
      "/home/qiao.yuqi/.conda/envs/PT_env/lib/python3.11/site-packages/tqdm/auto.py:21: TqdmWarning: IProgress not found. Please update jupyter and ipywidgets. See https://ipywidgets.readthedocs.io/en/stable/user_install.html\n",
      "  from .autonotebook import tqdm as notebook_tqdm\n"
     ]
    },
    {
     "name": "stdout",
     "output_type": "stream",
     "text": [
      "Selected device for model training: cuda\n"
     ]
    }
   ],
   "source": [
    "import pyreflect\n",
    "from pyreflect.input import NRSLDDataProcessor\n",
    "from pyreflect.flows import nr_predict_sld\n",
    "from pyreflect.models import (\n",
    "VariationalAutoencoder, \n",
    "Autoencoder, \n",
    "train_ae, \n",
    "train_vae,\n",
    "NRSLDCurvesGeneratorParams\n",
    ")\n",
    "import numpy as np\n",
    "import torch"
   ]
  },
  {
   "cell_type": "code",
   "execution_count": 2,
   "id": "c1e6a6e4-fc62-438d-9ca0-ea69192b836e",
   "metadata": {},
   "outputs": [],
   "source": [
    "root= \"./\"\n",
    "to_be_saved_nr_file = \"data/curves/refl_nr_curves_poly.npy\"\n",
    "to_be_saved_sld_file = \"data/curves/refl_sld_curves_poly.npy\"\n",
    "\n",
    "device = torch.device(\"cuda\") if torch.cuda.is_available() else torch.device(\"cpu\")\n",
    "config = pyreflect.config.load_config(root)"
   ]
  },
  {
   "cell_type": "markdown",
   "id": "c107764f-3e2b-4db9-8d88-2461cef20620",
   "metadata": {},
   "source": [
    "## Generate NR SLD profile curves"
   ]
  },
  {
   "cell_type": "code",
   "execution_count": 3,
   "id": "2f271919-87c5-434e-8894-cbf160e0e718",
   "metadata": {},
   "outputs": [
    {
     "name": "stdout",
     "output_type": "stream",
     "text": [
      "To be saved NR file:data/curves/refl_nr_curves_poly.npy\n",
      "To be loaded SLD curves:data/curves/refl_sld_curves_poly.npy\n"
     ]
    }
   ],
   "source": [
    "generator_params = NRSLDCurvesGeneratorParams(\n",
    "    root=root,\n",
    "    mod_nr_file = to_be_saved_nr_file,\n",
    "    mod_sld_file = to_be_saved_sld_file,\n",
    "    num_curves = 100000,\n",
    "    num_film_layers = 6 #Test with different film layers material\n",
    ")"
   ]
  },
  {
   "cell_type": "code",
   "execution_count": 4,
   "id": "75090507-5c03-4341-bb10-77ed8ec87422",
   "metadata": {},
   "outputs": [
    {
     "name": "stdout",
     "output_type": "stream",
     "text": [
      "Computing reflectivity\n"
     ]
    },
    {
     "name": "stderr",
     "output_type": "stream",
     "text": [
      "Generating reflectivity curves: 100%|\u001b[32m██████████\u001b[0m| 100000/100000 [11:28<00:00, 145.23it/s]\n"
     ]
    },
    {
     "name": "stdout",
     "output_type": "stream",
     "text": [
      "NR SLD generated curves saved at: \n",
      "               mod sld file: data/curves/refl_sld_curves_poly.npy\n",
      "                mod nr file: data/curves/refl_nr_curves_poly.npy\n"
     ]
    },
    {
     "data": {
      "text/plain": [
       "((100000, 2, 308), (100000, 2, 900))"
      ]
     },
     "execution_count": 4,
     "metadata": {},
     "output_type": "execute_result"
    }
   ],
   "source": [
    "\n",
    "#save nr, sld file\n",
    "nr_arr, sld_arr = nr_predict_sld.generate_nr_sld_curves(generator_params)\n",
    "nr_arr.shape,sld_arr.shape"
   ]
  },
  {
   "cell_type": "markdown",
   "id": "a24e8da5-c6a0-402c-8538-4dcd41ebccf0",
   "metadata": {},
   "source": [
    "### Load Refl1d data"
   ]
  },
  {
   "cell_type": "code",
   "execution_count": 5,
   "id": "51c1928d-b611-44bc-9f4d-b819b04a76ab",
   "metadata": {},
   "outputs": [],
   "source": [
    "dproc = NRSLDDataProcessor(\n",
    "    nr_file_path = to_be_saved_nr_file,\n",
    "    sld_file_path = to_be_saved_sld_file)\n",
    "\n",
    "nr_arr,sld_arr = dproc.load_data()\n"
   ]
  },
  {
   "cell_type": "markdown",
   "id": "eb5242b4-f8bd-4678-8a29-55ad495608c7",
   "metadata": {},
   "source": [
    "### Preprocessing & Train Test Split"
   ]
  },
  {
   "cell_type": "markdown",
   "id": "c7e7bd82-9483-4ee7-9afd-b1f03bb17cb1",
   "metadata": {},
   "source": [
    "### Split dataloader"
   ]
  },
  {
   "cell_type": "code",
   "execution_count": 6,
   "id": "564bee4a-29bf-4a2f-ba21-6439857d6a7b",
   "metadata": {},
   "outputs": [],
   "source": [
    "expt_nr_arr = dproc.normalize_nr()\n",
    "expt_sld_arr = dproc.normalize_sld()\n",
    "\n",
    "#Train Test Split \n",
    "list_arrays = dproc.split_arrays(expt_nr_arr,expt_sld_arr, size_split=0.7)\n",
    "\n",
    "#Keep Original data\n",
    "# copied_list = [x.copy() for x in list_arrays]\n",
    "\n",
    "# Remove X axis from train val test\n",
    "# crv_tr, sld_tr, crv_val, sld_val, crv_tst, sld_tst = list_arrays\n",
    "\n",
    "# crv_tr = dproc.reshape_nr_to_single_channel(crv_tr)\n",
    "# crv_val = dproc.reshape_nr_to_single_channel(crv_val)\n",
    "# crv_tst = dproc.reshape_nr_to_single_channel(crv_tst)\n",
    "\n",
    "# list_arrays = [crv_tr, sld_tr, crv_val, sld_val, crv_tst, sld_tst]\n",
    "\n",
    "tensor_arrays = dproc.convert_tensors(list_arrays)\n",
    "\n",
    "# Dataloaders for training \n",
    "tr_data, val_data,tst_data, tr_load, val_load,tst_load = dproc.get_dataloaders(*tensor_arrays,16)\n"
   ]
  },
  {
   "cell_type": "markdown",
   "id": "388fa67d-6f12-41d2-b874-59b6827b9ec1",
   "metadata": {},
   "source": [
    "### VAE Training"
   ]
  },
  {
   "cell_type": "code",
   "execution_count": 7,
   "id": "ee282461-9cc4-4eb5-8a82-99932ffe5b98",
   "metadata": {},
   "outputs": [],
   "source": [
    "class FlattenedDataset(torch.utils.data.Dataset):\n",
    "    def __init__(self, dataset):\n",
    "        self.dataset = dataset\n",
    "\n",
    "    def __len__(self):\n",
    "        return len(self.dataset)\n",
    "\n",
    "    def __getitem__(self, idx):\n",
    "        x, y = self.dataset[idx]\n",
    "        return x.view(-1), y  # flatten input"
   ]
  },
  {
   "cell_type": "code",
   "execution_count": 8,
   "id": "390dbc53-3253-40af-9abb-1381c83ae660",
   "metadata": {},
   "outputs": [
    {
     "data": {
      "text/plain": [
       "(616, torch.Size([16, 616]), torch.Size([16, 2, 900]))"
      ]
     },
     "execution_count": 8,
     "metadata": {},
     "output_type": "execute_result"
    }
   ],
   "source": [
    "tr_load = torch.utils.data.DataLoader(\n",
    "    FlattenedDataset(tr_data), batch_size=16, shuffle=False\n",
    ")\n",
    "\n",
    "val_load = torch.utils.data.DataLoader(\n",
    "    FlattenedDataset(val_data), batch_size=16, shuffle=False\n",
    ")\n",
    "\n",
    "#Check batch shape for training\n",
    "batch = next(iter(tr_load))\n",
    "\n",
    "batch_x, batch_y = batch\n",
    "x,_ = tr_data[0]\n",
    "\n",
    "x.numel(),batch_x.shape,batch_y.shape\n"
   ]
  },
  {
   "cell_type": "code",
   "execution_count": 9,
   "id": "178f3ca3-e550-4a13-a03f-9c4be78f54f0",
   "metadata": {},
   "outputs": [
    {
     "data": {
      "text/plain": [
       "(torch.Size([16, 2, 308]), torch.Size([16, 2, 900]))"
      ]
     },
     "execution_count": 9,
     "metadata": {},
     "output_type": "execute_result"
    }
   ],
   "source": [
    "# Test loader shape\n",
    "tst_x,tst_y = next(iter(tst_load))\n",
    "tst_x.shape, tst_y.shape"
   ]
  },
  {
   "cell_type": "code",
   "execution_count": 12,
   "id": "3adbaa20-7d28-4fbf-8451-ba0fee6d3345",
   "metadata": {},
   "outputs": [
    {
     "name": "stdout",
     "output_type": "stream",
     "text": [
      "Epoch: 1, train loss: 0.0010924023385159671, valid loss: 0.0006819400463939837\n",
      "Epoch: 2, train loss: 0.0006268704374054713, valid loss: 0.0005632484392106617\n",
      "Epoch: 3, train loss: 0.0004402847196341359, valid loss: 0.0003795025891675028\n",
      "Epoch: 4, train loss: 0.00034196947703936273, valid loss: 0.00030751107583271224\n",
      "Epoch: 5, train loss: 0.00028330300581708016, valid loss: 0.00024532782731948597\n",
      "Epoch: 6, train loss: 0.00022610544598262224, valid loss: 0.00019776968660781524\n",
      "Epoch: 7, train loss: 0.00018633532782550902, valid loss: 0.00015518427551560192\n",
      "Epoch: 8, train loss: 0.00014360163956049032, valid loss: 0.0001369879099812586\n",
      "Epoch: 9, train loss: 0.00012590421187841068, valid loss: 0.00012478946484061878\n",
      "Epoch: 10, train loss: 0.00011717006052079212, valid loss: 0.00013072882538758414\n"
     ]
    }
   ],
   "source": [
    "#The first sample input\n",
    "latent_dims = 16\n",
    "init_size = x.numel()\n",
    "\n",
    "model = Autoencoder(init_size, latent_dims).to(device)\n",
    "train_loss, val_loss = train_ae(\n",
    "    model,\n",
    "    tr_load,\n",
    "    val_load,\n",
    "    epochs=10, \n",
    "    loss_fn=torch.nn.MSELoss()\n",
    ")\n",
    "# train_loss, val_loss = train_vae(\n",
    "#     model,\n",
    "#     tr_load,\n",
    "#     val_load,\n",
    "#     epochs=10, \n",
    "#     beta=0.8\n",
    "# )"
   ]
  },
  {
   "cell_type": "code",
   "execution_count": 13,
   "id": "b3a60dd1-82e0-469d-92de-8effdfa723d9",
   "metadata": {},
   "outputs": [
    {
     "data": {
      "text/plain": [
       "((15000, 2, 308), numpy.ndarray)"
      ]
     },
     "execution_count": 13,
     "metadata": {},
     "output_type": "execute_result"
    }
   ],
   "source": [
    "#reconstruct Test Load\n",
    "model.eval()\n",
    "denoised_all = []\n",
    "#flatten test \n",
    "tst_load = torch.utils.data.DataLoader(\n",
    "    FlattenedDataset(tst_data), batch_size=16, shuffle=False\n",
    ")\n",
    "\n",
    "x_load = tst_load\n",
    "\n",
    "with torch.no_grad():\n",
    "    for batch in x_load:\n",
    "        inputs, _ = batch  # ignore labels if present\n",
    "        inputs = inputs.to(device)\n",
    "\n",
    "        outputs = model(inputs)  # This calls forward() internally\n",
    "        #reshape back to 2d\n",
    "        outputs = outputs.view(outputs.size(0), 2, -1) # (B, 2, M)\n",
    "        denoised_all.append(outputs.cpu())\n",
    "\n",
    "denoised_all = torch.cat(denoised_all, dim=0).numpy()\n",
    "denoised_all.shape, type(denoised_all)"
   ]
  },
  {
   "cell_type": "markdown",
   "id": "5a825e34-f5be-4be6-822f-41d300c4cad0",
   "metadata": {},
   "source": [
    "### Reconstruct Test NR From AE"
   ]
  },
  {
   "cell_type": "code",
   "execution_count": null,
   "id": "6ea290cd-e37f-4666-94b8-9212edbef1e0",
   "metadata": {},
   "outputs": [],
   "source": [
    "# # From reshaped single-channel back to full X-Y\n",
    "# restored_nr_arr = np.concatenate([\n",
    "#     nr_tst[:, 0:1, :],   # first channel, shape (B, 1, L)\n",
    "#     denoised_all           # second channel, shape (B, 1, L)\n",
    "# ], axis=1)  # → shape: (B, 2, L)\n",
    "\n",
    "# restored_nr_arr.shape"
   ]
  },
  {
   "cell_type": "code",
   "execution_count": 14,
   "id": "dfd14829-4b5e-4dc0-a5fd-9b449f05632f",
   "metadata": {},
   "outputs": [],
   "source": [
    "x_tensor, y_tensor = tst_data.tensors\n",
    "nr_tst = x_tensor.numpy()\n",
    "sld_tst =y_tensor.numpy()"
   ]
  },
  {
   "cell_type": "code",
   "execution_count": 15,
   "id": "e1adc330-1d44-4d5f-80a3-2ae8725a6fe8",
   "metadata": {},
   "outputs": [],
   "source": [
    "np.save(\"./data/curves/nr_ae_recon_ldim32.npy\",denoised_all)\n",
    "np.save(\"./data/curves/nr_tst_orig.npy\",nr_tst)\n",
    "np.save(\"./data/curves/sld_tst_orig.npy\",sld_tst)"
   ]
  }
 ],
 "metadata": {
  "kernelspec": {
   "display_name": "Python 3 (ipykernel)",
   "language": "python",
   "name": "python3"
  },
  "language_info": {
   "codemirror_mode": {
    "name": "ipython",
    "version": 3
   },
   "file_extension": ".py",
   "mimetype": "text/x-python",
   "name": "python",
   "nbconvert_exporter": "python",
   "pygments_lexer": "ipython3",
   "version": "3.11.11"
  }
 },
 "nbformat": 4,
 "nbformat_minor": 5
}
